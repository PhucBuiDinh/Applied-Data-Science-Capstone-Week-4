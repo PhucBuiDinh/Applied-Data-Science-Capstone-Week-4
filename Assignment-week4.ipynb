{
 "cells": [
  {
   "cell_type": "markdown",
   "metadata": {},
   "source": [
    "<h1 align=center><font size = 10> Housing Sales Prices & Venues in Tokyo </font></h1>"
   ]
  },
  {
   "cell_type": "markdown",
   "metadata": {},
   "source": [
    "# 1. Introduction"
   ]
  },
  {
   "cell_type": "markdown",
   "metadata": {},
   "source": [
    "## 1.1. Description & Disscusion of the Background"
   ]
  },
  {
   "cell_type": "markdown",
   "metadata": {},
   "source": [
    "    Tokyo is Japan's capital and the world's most populous metropolis. It is also one of Japan's 47 prefectures, consisting of 23 central city wards and multiple cities, towns and villages west of the city center. Tokyo offers a seemingly unlimited choice of shopping, entertainment, culture and dining to its visitors. The city's history can be appreciated in districts such as Asakusa and in many excellent museums, historic temples and gardens. Contrary to common perception, Tokyo also offers a number of attractive green spaces in the city center and within relatively short train rides at its outskirts. As of January 1, 2019, a record 550,000 foreigners reside in Tokyo[1].\n",
    "    Tokyo is number 10 on the world’s highest average monthly rents by city. Known worldwide as an expensive city, it is not surprising that Tokyo makes the list of the world’s highest average monthly rents in Deutsche Bank’s 2019 edition of its annual Mapping the World’s Prices report. Apartments for rent in Tokyo at a monthly average of US$1,903-that’s around ¥203,730-for a \"typical\" two-bedroom apartment[2]. However, rents can differ greatly among the metropolis’ various neighborhoods, meaning that you can find a two-bedroom apartment with rent as low as ¥85,100—if you know where to look.\n",
    "    When we consider all these problems, we can create a map and information chart where the real estate index is placed on Tokyo and each ward is clustered according to the venue density."
   ]
  },
  {
   "cell_type": "markdown",
   "metadata": {},
   "source": [
    "## 1.2. Data Description"
   ]
  },
  {
   "cell_type": "markdown",
   "metadata": {},
   "source": [
    "To consider the problem we can list the datas as belows\n",
    "\n",
    "1. I found the Second-level Administrative Divisions of the Tokyo from Spatial Data Repository of NYU . The .json file has coordinates of the all city of Japan. I cleaned the data and reduced it to city of Istanbul where I used it to create choropleth map of House Index of Istanbul.\n",
    "2. I used Forsquare API to get the most common venues of given Borough of Toky. \n",
    "3. There are not too many public datas related to demographic and social parameters for the city of Tokyo. Therefor you must set-up your own data tables in most cases. In this case, I collected Tokyo 23 wards average rent by ward for April to June 2015. Source: REINS \n",
    "4. I used Google Map, 'Search Nearby' option to get the center coordinates of the each Borough."
   ]
  },
  {
   "cell_type": "code",
   "execution_count": null,
   "metadata": {},
   "outputs": [],
   "source": []
  },
  {
   "cell_type": "code",
   "execution_count": null,
   "metadata": {},
   "outputs": [],
   "source": []
  },
  {
   "cell_type": "code",
   "execution_count": null,
   "metadata": {},
   "outputs": [],
   "source": []
  },
  {
   "cell_type": "code",
   "execution_count": null,
   "metadata": {},
   "outputs": [],
   "source": []
  },
  {
   "cell_type": "code",
   "execution_count": null,
   "metadata": {},
   "outputs": [],
   "source": []
  }
 ],
 "metadata": {
  "kernelspec": {
   "display_name": "Python",
   "language": "python",
   "name": "conda-env-python-py"
  },
  "language_info": {
   "codemirror_mode": {
    "name": "ipython",
    "version": 3
   },
   "file_extension": ".py",
   "mimetype": "text/x-python",
   "name": "python",
   "nbconvert_exporter": "python",
   "pygments_lexer": "ipython3",
   "version": "3.6.7"
  }
 },
 "nbformat": 4,
 "nbformat_minor": 4
}
